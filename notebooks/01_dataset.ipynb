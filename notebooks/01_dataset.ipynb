{
 "cells": [
  {
   "cell_type": "code",
   "execution_count": 1,
   "metadata": {},
   "outputs": [],
   "source": [
    "# Import packages\n",
    "import os\n",
    "from datasets import load_dataset"
   ]
  },
  {
   "attachments": {},
   "cell_type": "markdown",
   "metadata": {},
   "source": [
    "## Datasets From Hugging Face"
   ]
  },
  {
   "cell_type": "code",
   "execution_count": 2,
   "metadata": {},
   "outputs": [],
   "source": [
    "# https://huggingface.co/datasets\n",
    "\n",
    "dataset_names = [\n",
    "    'Paul/hatecheck-french',\n",
    "    'hate_speech18',\n",
    "    'hate_speech_offensive',\n",
    "    'tweets_hate_speech_detection',\n",
    "    'limjiayi/hateful_memes_expanded',\n",
    "    'classla/FRENK-hate-en',\n",
    "    'ucberkeley-dlab/measuring-hate-speech',\n",
    "    # 'hatexplain'\n",
    "]\n",
    "# Output directory\n",
    "output_dir = '../data/raw2/'\n",
    "# Output file extension\n",
    "extension = 'tsv'"
   ]
  },
  {
   "cell_type": "code",
   "execution_count": null,
   "metadata": {},
   "outputs": [],
   "source": [
    "for dataset in dataset_names:\n",
    "    print(f'Loading {dataset}...\\n')\n",
    "    # Loading dataset\n",
    "    ds = load_dataset(dataset)\n",
    "    # Converting to pandas dataframe\n",
    "    ds.set_format(type='pandas')\n",
    "    # Saving the different datasets split\n",
    "    for key in ds.keys():\n",
    "        df = ds[key][:]    \n",
    "        name = dataset.replace('/', '_').replace('\\\\', '_')\n",
    "        file_name = f'{name}_{key}.{extension}'\n",
    "        file_path = os.path.join(output_dir, file_name)\n",
    "        # Saving the data\n",
    "        # with open(file_path, 'w', encoding='utf-8') as file:\n",
    "        df.to_csv(file_path, sep='\\t', index=False, encoding='utf-8')"
   ]
  },
  {
   "attachments": {},
   "cell_type": "markdown",
   "metadata": {},
   "source": [
    "### Hatexplain needs particular preprocessing"
   ]
  },
  {
   "cell_type": "code",
   "execution_count": null,
   "metadata": {},
   "outputs": [],
   "source": [
    "dataset = 'hatexplain'\n",
    "print(f'Loading {dataset}...\\n')\n",
    "# Loading dataset\n",
    "ds = load_dataset(dataset)\n",
    "# Converting to pandas dataframe\n",
    "ds.set_format(type='pandas')\n",
    "# Saving the different datasets split\n",
    "for key in ds.keys():\n",
    "    df = ds[key][:]\n",
    "    df['post_tokens'] = df['post_tokens'].apply(lambda row: ' '.join(row))\n",
    "    name = dataset.replace('/', '_').replace('\\\\', '_')\n",
    "    file_name = f'{name}_{key}.{extension}'\n",
    "    file_path = os.path.join(output_dir, file_name)\n",
    "    # Saving the data\n",
    "    # with open(file_path, 'w', encoding='utf-8') as file:\n",
    "    df.to_csv(file_path, sep='\\t', index=False, encoding='utf-8')"
   ]
  }
 ],
 "metadata": {
  "kernelspec": {
   "display_name": "mad-env",
   "language": "python",
   "name": "python3"
  },
  "language_info": {
   "codemirror_mode": {
    "name": "ipython",
    "version": 3
   },
   "file_extension": ".py",
   "mimetype": "text/x-python",
   "name": "python",
   "nbconvert_exporter": "python",
   "pygments_lexer": "ipython3",
   "version": "3.10.14"
  }
 },
 "nbformat": 4,
 "nbformat_minor": 2
}
